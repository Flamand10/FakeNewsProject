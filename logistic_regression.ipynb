{
 "cells": [
  {
   "cell_type": "code",
   "execution_count": 1,
   "id": "a55d6825-8f11-492a-b2a6-1a873e3bdca2",
   "metadata": {},
   "outputs": [
    {
     "name": "stdout",
     "output_type": "stream",
     "text": [
      "Columns in train_set: Index(['Unnamed: 0', 'id', 'domain', 'type', 'url', 'content', 'scraped_at',\n",
      "       'inserted_at', 'updated_at', 'title', 'authors', 'keywords',\n",
      "       'meta_keywords', 'meta_description', 'tags', 'summary', 'source'],\n",
      "      dtype='object')\n",
      "Columns in val_set: Index(['Unnamed: 0', 'id', 'domain', 'type', 'url', 'content', 'scraped_at',\n",
      "       'inserted_at', 'updated_at', 'title', 'authors', 'keywords',\n",
      "       'meta_keywords', 'meta_description', 'tags', 'summary', 'source'],\n",
      "      dtype='object')\n",
      "Columns in test_set: Index(['Unnamed: 0', 'id', 'domain', 'type', 'url', 'content', 'scraped_at',\n",
      "       'inserted_at', 'updated_at', 'title', 'authors', 'keywords',\n",
      "       'meta_keywords', 'meta_description', 'tags', 'summary', 'source'],\n",
      "      dtype='object')\n",
      "F1 Score on Validation Set: 0.86\n",
      "F1 Score on Test Set: 0.86\n"
     ]
    }
   ],
   "source": [
    "import pandas as pd\n",
    "from sklearn.feature_extraction.text import CountVectorizer\n",
    "from sklearn.linear_model import LogisticRegression\n",
    "from sklearn.metrics import f1_score\n",
    "\n",
    "# Step 1: Load the datasets\n",
    "train_df = pd.read_csv('train_set.csv', low_memory=False)\n",
    "val_df = pd.read_csv('val_set.csv', low_memory=False)\n",
    "test_df = pd.read_csv('test_set.csv', low_memory=False)\n",
    "\n",
    "# Step 2: Verify column names\n",
    "print(\"Columns in train_set:\", train_df.columns)\n",
    "print(\"Columns in val_set:\", val_df.columns)\n",
    "print(\"Columns in test_set:\", test_df.columns)\n",
    "\n",
    "# Step 3: Create binary labels using the 'type' column\n",
    "# Assuming 'reliable' is the only reliable label, and everything else is fake\n",
    "train_df['label'] = train_df['type'].apply(lambda x: 1 if x == 'reliable' else 0)\n",
    "val_df['label'] = val_df['type'].apply(lambda x: 1 if x == 'reliable' else 0)\n",
    "test_df['label'] = test_df['type'].apply(lambda x: 1 if x == 'reliable' else 0)\n",
    "\n",
    "# Step 4: Handle missing values in 'content' (if any)\n",
    "# Fill missing 'content' with an empty string or drop rows with missing 'content'\n",
    "train_df['content'] = train_df['content'].fillna('')\n",
    "val_df['content'] = val_df['content'].fillna('')\n",
    "test_df['content'] = test_df['content'].fillna('')\n",
    "\n",
    "# Step 5: Select the 10,000 most frequent words\n",
    "vectorizer = CountVectorizer(max_features=10000)\n",
    "\n",
    "# Fit the vectorizer on the training data and transform all datasets\n",
    "X_train = vectorizer.fit_transform(train_df['content'])\n",
    "X_val = vectorizer.transform(val_df['content'])\n",
    "X_test = vectorizer.transform(test_df['content'])\n",
    "\n",
    "# Extract labels\n",
    "y_train = train_df['label']\n",
    "y_val = val_df['label']\n",
    "y_test = test_df['label']\n",
    "\n",
    "# Step 6: Train a logistic regression model\n",
    "log_reg = LogisticRegression(max_iter=1000)\n",
    "log_reg.fit(X_train, y_train)\n",
    "\n",
    "# Step 7: Evaluate the model on the validation set\n",
    "y_val_pred = log_reg.predict(X_val)\n",
    "f1_val = f1_score(y_val, y_val_pred)\n",
    "\n",
    "print(f\"F1 Score on Validation Set: {f1_val:.2f}\")\n",
    "\n",
    "# Step 8: Evaluate the model on the test set\n",
    "y_test_pred = log_reg.predict(X_test)\n",
    "f1_test = f1_score(y_test, y_test_pred)\n",
    "\n",
    "print(f\"F1 Score on Test Set: {f1_test:.2f}\")"
   ]
  }
 ],
 "metadata": {
  "kernelspec": {
   "display_name": "Python 3 (ipykernel)",
   "language": "python",
   "name": "python3"
  },
  "language_info": {
   "codemirror_mode": {
    "name": "ipython",
    "version": 3
   },
   "file_extension": ".py",
   "mimetype": "text/x-python",
   "name": "python",
   "nbconvert_exporter": "python",
   "pygments_lexer": "ipython3",
   "version": "3.12.8"
  }
 },
 "nbformat": 4,
 "nbformat_minor": 5
}
