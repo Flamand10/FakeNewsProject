{
 "cells": [
  {
   "cell_type": "code",
   "execution_count": null,
   "metadata": {},
   "outputs": [],
   "source": [
    "import pandas as pd # For loading and saving CSV files\n",
    "from sklearn.model_selection import train_test_split # For splitting datasets into train/val/test\n",
    "\n",
    "# Reads file and force columns 0 and 1 to be read as strings to avoid mixed-type warnings\n",
    "df = pd.read_csv('995,000_rows_cleaned.csv', dtype={0: str, 1: str})\n"
   ]
  },
  {
   "cell_type": "code",
   "execution_count": null,
   "metadata": {},
   "outputs": [
    {
     "name": "stdout",
     "output_type": "stream",
     "text": [
      "Training set: 796000 rows\n",
      "Validation set: 99500 rows\n",
      "Test set: 99500 rows\n"
     ]
    }
   ],
   "source": [
    "# Split data into 80% training and 20% temporary, to later split to validation and test\n",
    "train_df, temp_df = train_test_split(df, test_size=0.2, random_state=42)\n",
    "\n",
    "\n",
    "# Split the temporary set into 50% validation 50% test, so 10% each of original data\n",
    "val_df, test_df = train_test_split(temp_df, test_size=0.5, random_state=42)\n",
    "\n",
    "# Print numver of rows in each split\n",
    "print(f\"Training set: {len(train_df)} rows\")\n",
    "print(f\"Validation set: {len(val_df)} rows\")\n",
    "print(f\"Test set: {len(test_df)} rows\")"
   ]
  },
  {
   "cell_type": "code",
   "execution_count": null,
   "metadata": {},
   "outputs": [],
   "source": [
    "# Save each split to a separate CSV file\n",
    "train_df.to_csv(\"train_set.csv\", index=False)\n",
    "val_df.to_csv(\"val_set.csv\", index=False)\n",
    "test_df.to_csv(\"test_set.csv\", index=False)"
   ]
  }
 ],
 "metadata": {
  "kernelspec": {
   "display_name": "CaspersConda",
   "language": "python",
   "name": "python3"
  },
  "language_info": {
   "codemirror_mode": {
    "name": "ipython",
    "version": 3
   },
   "file_extension": ".py",
   "mimetype": "text/x-python",
   "name": "python",
   "nbconvert_exporter": "python",
   "pygments_lexer": "ipython3",
   "version": "3.13.2"
  }
 },
 "nbformat": 4,
 "nbformat_minor": 2
}
